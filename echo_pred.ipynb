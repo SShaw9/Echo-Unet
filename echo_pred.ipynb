{
 "cells": [
  {
   "cell_type": "code",
   "execution_count": 154,
   "metadata": {
    "collapsed": true,
    "pycharm": {
     "name": "#%%\n"
    }
   },
   "outputs": [
    {
     "data": {
      "text/plain": "'\\nThis notebook was inspired from the code project available at [link]\\nThis notebook intends to show the overlapping of the edge detected masks\\nfor the ED and ES frames.\\n'"
     },
     "execution_count": 154,
     "metadata": {},
     "output_type": "execute_result"
    }
   ],
   "source": [
    "\"\"\"\n",
    "This notebook was inspired from the code project available at [link]\n",
    "This notebook intends to show the overlapping of the edge detected masks\n",
    "for the ED and ES frames.\n",
    "\"\"\""
   ]
  },
  {
   "cell_type": "code",
   "execution_count": 155,
   "outputs": [],
   "source": [
    "import os\n",
    "import random\n",
    "import csv\n",
    "import cv2\n",
    "from pathlib import Path\n",
    "import numpy as np\n",
    "import matplotlib.pyplot as plt\n",
    "import PIL\n",
    "from PIL import ImageOps, Image\n",
    "from IPython.display import display, HTML\n",
    "from tensorflow import keras\n",
    "from tensorflow.keras.layers import Activation, BatchNormalization, Concatenate, Conv2D, Input, UpSampling2D\n",
    "from tensorflow.keras.models import Model\n",
    "from tensorflow.keras.preprocessing.image import load_img, img_to_array, array_to_img\n",
    "from tensorflow.keras.metrics import Recall, Precision\n",
    "from tensorflow.keras import backend as K\n",
    "\n",
    "#display(HTML(\"<script>.container {width:100% !important; } </style>\"))"
   ],
   "metadata": {
    "collapsed": false,
    "pycharm": {
     "name": "#%%\n"
    }
   }
  },
  {
   "cell_type": "code",
   "execution_count": 156,
   "outputs": [],
   "source": [
    "echonet_dir = Path('../Echonet/')\n",
    "ed_original_val_dir = echonet_dir / 'Images' / 'Val' / 'EDV' / 'Originals2'\n",
    "es_original_val_dir = echonet_dir / 'Images' / 'Val' / 'ESV' / 'Originals2'\n",
    "ed_mask_val_dir = echonet_dir / 'Images' / 'Val' / 'EDV' / 'Masks'\n",
    "es_mask_val_dir = echonet_dir / 'Images' / 'Val' / 'ESV' / 'Masks'\n",
    "overlay_dir = echonet_dir / 'Images' / 'Overlays'"
   ],
   "metadata": {
    "collapsed": false,
    "pycharm": {
     "name": "#%%\n"
    }
   }
  },
  {
   "cell_type": "code",
   "execution_count": 157,
   "outputs": [],
   "source": [
    "# Global variables and paths\n",
    "test_video_dir = Path('../Notebook/test_video/')\n",
    "echonet_dir = Path('../Echonet/')\n",
    "label_trace_path = echonet_dir / 'Labels' / 'VolumeTracings.csv'\n",
    "file_list_path = echonet_dir / 'Labels' / 'FileList.csv'\n",
    "weights_edv_path = '../Notebook/weights_EDV.h5'\n",
    "weights_esv_path = '../Notebook/weights_ESV.h5'\n",
    "\n",
    "\n",
    "VIDEO_NAME1 = '0X1A030EFDD45062FA.avi'\n",
    "VIDEO_NAME2 = '0X1A3D565B371DC573.avi'\n",
    "VIDEO_NAME3 = '0X1A5FAE3F9D37794E.avi'\n",
    "EXAMPLE_10 = '0X100009310A3BD7FC.avi'\n",
    "IMG_SIZE = (112,112)\n",
    "\n",
    "\n",
    "ed_val_original_paths = sorted(\n",
    "    [\n",
    "        os.path.join(ed_original_val_dir, fname)\n",
    "        for fname in os.listdir(ed_original_val_dir)\n",
    "        if fname.endswith('.png')\n",
    "    ]\n",
    ")\n",
    "\n",
    "es_val_original_paths = sorted(\n",
    "    [\n",
    "        os.path.join(es_original_val_dir, fname)\n",
    "        for fname in os.listdir(es_original_val_dir)\n",
    "        if fname.endswith('.png')\n",
    "    ]\n",
    ")\n",
    "\n",
    "ed_val_mask_paths = sorted(\n",
    "    [\n",
    "        os.path.join(ed_mask_val_dir, fname)\n",
    "        for fname in os.listdir(ed_mask_val_dir)\n",
    "        if fname.endswith('.png') and not fname.startswith('.')\n",
    "    ]\n",
    ")\n",
    "\n",
    "es_val_mask_paths = sorted(\n",
    "    [\n",
    "        os.path.join(es_mask_val_dir, fname)\n",
    "        for fname in os.listdir(es_mask_val_dir)\n",
    "        if fname.endswith('.png') and not fname.startswith('.')\n",
    "    ]\n",
    ")\n",
    "\n"
   ],
   "metadata": {
    "collapsed": false,
    "pycharm": {
     "name": "#%%\n"
    }
   }
  },
  {
   "cell_type": "code",
   "execution_count": 158,
   "outputs": [],
   "source": [
    "# load video\n",
    "def load_video(path, filename):\n",
    "    vpath = (path + \"/\" + filename)\n",
    "    print(\"vpath\", vpath)\n",
    "    if not os.path.exists(vpath):\n",
    "        raise FileNotFoundError\n",
    "    cap = cv2.VideoCapture(vpath)\n",
    "\n",
    "    f_c = int(cap.get(cv2.CAP_PROP_FRAME_COUNT))\n",
    "    f_h = int(cap.get(cv2.CAP_PROP_FRAME_HEIGHT))\n",
    "    f_w = int(cap.get(cv2.CAP_PROP_FRAME_WIDTH))\n",
    "    vframes = np.zeros((f_c, f_w, f_h, 3), np.uint8)\n",
    "\n",
    "    for i in range(f_c):\n",
    "        ret, frame = cap.read()\n",
    "        if not ret:\n",
    "            raise ValueError(\"\")\n",
    "        vframes[i] = frame\n",
    "\n",
    "    vframes = vframes.transpose((3, 0, 1, 2))\n",
    "    print(vframes.shape)\n",
    "    return vframes, filename\n",
    "\n",
    "\n"
   ],
   "metadata": {
    "collapsed": false,
    "pycharm": {
     "name": "#%%\n"
    }
   }
  },
  {
   "cell_type": "code",
   "execution_count": 159,
   "outputs": [],
   "source": [
    "# load .csv data files\n",
    "def load_filelist_data(path):\n",
    "    with open(path, newline='') as csvfile:\n",
    "        print(\"filelist data loading...\")\n",
    "        header = csvfile.readline().strip().split(',')\n",
    "        assert header == [\"FileName\", \"EF\", \"ESV\", \"EDV\",\n",
    "                          \"FrameHeight\", \"FrameWidth\", \"FPS\",\n",
    "                          \"NumberOfFrames\", \"Split\"]\n",
    "        print(\"filelist data loaded.\")\n",
    "        filereader = csv.reader(csvfile, delimiter=' ', quotechar='|')\n",
    "        filelist = []\n",
    "        for row in filereader:\n",
    "            split_row = row[0].split(',')\n",
    "            assert (len(split_row) == 9)\n",
    "            filelist.append(split_row)\n",
    "        filelist = np.array(filelist)\n",
    "    csvfile.close()\n",
    "    return filelist\n",
    "\n",
    "def load_tracing_data(path, fl):\n",
    "    print('loading tracing volume data...')\n",
    "    raw_tracings = []\n",
    "    tracings = []\n",
    "    for f in fl[0:-6]:\n",
    "        vname = [f[0]]\n",
    "        tracings.append(vname)\n",
    "    # check filelist [] and tracings [] are the same length\n",
    "    assert len(tracings) == len(fl[0:-6])\n",
    "\n",
    "    with open(path, newline='') as csvfile:\n",
    "        header = csvfile.readline().strip().split(',')\n",
    "        assert header == [\"FileName\", \"X1\", \"Y1\", \"X2\", \"Y2\", \"Frame\"]\n",
    "        filereader = csv.reader(csvfile, delimiter=' ', quotechar='|')\n",
    "        for row in filereader:\n",
    "            srow = row[0].split(',')\n",
    "            # check length of each row is same as the number of...\n",
    "            # columns defined in header\n",
    "            assert len(srow) == len(header)\n",
    "            raw_tracings.append(srow)\n",
    "    csvfile.close()\n",
    "\n",
    "    i = 0\n",
    "    for trace in tracings:\n",
    "        if i%1000 == 0:\n",
    "            print(i)\n",
    "        for raw in raw_tracings[i:]:\n",
    "            if raw[0] == trace[0]:\n",
    "                coords = raw[1:6]\n",
    "                trace.append(coords)\n",
    "                i += 1\n",
    "    print(\"tracings data loaded.\")\n",
    "\n",
    "    return tracings"
   ],
   "metadata": {
    "collapsed": false,
    "pycharm": {
     "name": "#%%\n"
    }
   }
  },
  {
   "cell_type": "code",
   "execution_count": 160,
   "outputs": [],
   "source": [
    "# load .csv file data\n",
    "#fldata = load_filelist_data(file_list_path)\n",
    "#tdata = load_tracing_data(label_trace_path, fldata)"
   ],
   "metadata": {
    "collapsed": false,
    "pycharm": {
     "name": "#%%\n"
    }
   }
  },
  {
   "cell_type": "code",
   "execution_count": 161,
   "outputs": [
    {
     "name": "stdout",
     "output_type": "stream",
     "text": [
      "vpath ../Notebook/test_video/0X100009310A3BD7FC.avi\n",
      "(3, 174, 112, 112)\n"
     ]
    }
   ],
   "source": [
    "# load video\n",
    "video_frames, video_name = load_video(str(test_video_dir), EXAMPLE_10)"
   ],
   "metadata": {
    "collapsed": false,
    "pycharm": {
     "name": "#%%\n"
    }
   }
  },
  {
   "cell_type": "code",
   "execution_count": 162,
   "outputs": [],
   "source": [
    "# extract ED and ES frames from video frames\n",
    "def get_cardiac_frames(frames, filename, tracings):\n",
    "    assert len(tracings) == 10024\n",
    "    v_tracings = []\n",
    "    for tracing in tracings:\n",
    "        if tracing[0] == filename:\n",
    "            v_tracings.append(tracing)\n",
    "            break\n",
    "        else:\n",
    "            pass\n",
    "    [v_tracings] = v_tracings\n",
    "\n",
    "    d_idx = int(v_tracings[1][-1])\n",
    "    s_idx = int(v_tracings[-1][-1])\n",
    "    edv = frames[0][d_idx]\n",
    "    esv = frames[0][s_idx]\n",
    "\n",
    "    return edv, esv\n",
    "\n",
    "#edv_frame, esv_frame = get_cardiac_frames(video_frames, video_name, tdata)\n",
    "#edv_frame = np.expand_dims(edv_frame, 2)\n",
    "#esv_frame = np.expand_dims(esv_frame, 2)\n"
   ],
   "metadata": {
    "collapsed": false,
    "pycharm": {
     "name": "#%%\n"
    }
   }
  },
  {
   "cell_type": "code",
   "execution_count": 163,
   "outputs": [],
   "source": [
    "class EchoGen(keras.utils.Sequence):\n",
    "\n",
    "    def __init__(self, original_paths, mask_paths, batch_size, img_size):\n",
    "        self.original_paths = original_paths\n",
    "        self.mask_paths = mask_paths\n",
    "        self.batch_size = batch_size\n",
    "        self.img_size = img_size\n",
    "\n",
    "    def __len__(self):\n",
    "        return len(self.mask_paths) // self.batch_size\n",
    "\n",
    "    def on_epoch_end(self):\n",
    "        random.Random(1337).shuffle(self.original_paths)\n",
    "        random.Random(1337).shuffle(self.mask_paths)\n",
    "        #display_pred(example, val_preds)\n",
    "\n",
    "    def __getitem__(self, idx):\n",
    "        i = idx * self.batch_size\n",
    "        batch_original_paths = self.original_paths[i: i + self.batch_size]\n",
    "        batch_mask_paths = self.mask_paths[i: i + self.batch_size]\n",
    "        x = np.zeros((self.batch_size,) + self.img_size + (3,), dtype='float32')\n",
    "        for j, path in enumerate(batch_original_paths):\n",
    "            img = cv2.imread(path, cv2.IMREAD_COLOR)\n",
    "            img = cv2.resize(img, IMG_SIZE)\n",
    "            img = img / 255\n",
    "            img = img.astype(np.float32)\n",
    "            x[j] = img\n",
    "            # plt.imshow(img)\n",
    "            # plt.show()\n",
    "            # print(img)\n",
    "\n",
    "        y = np.zeros((self.batch_size,) + self.img_size + (1,), dtype='float32')\n",
    "        for j, path in enumerate(batch_mask_paths):\n",
    "            _img = cv2.imread(path, cv2.IMREAD_GRAYSCALE)\n",
    "            _img = cv2.resize(_img, IMG_SIZE)\n",
    "            _img[_img > 0] = 255\n",
    "            _img = _img / 255\n",
    "            _img = _img.astype(np.int32)\n",
    "            _img = np.expand_dims(_img, 2)\n",
    "            y[j] = _img\n",
    "            # plt.imshow(_img)\n",
    "            # plt.show()\n",
    "            # print(_img)\n",
    "\n",
    "        return x, y\n",
    "\n",
    "ed_gen = EchoGen(ed_val_original_paths, ed_val_mask_paths, batch_size=64, img_size=IMG_SIZE)\n",
    "es_gen = EchoGen(es_val_original_paths, es_val_mask_paths, batch_size=64, img_size=IMG_SIZE)"
   ],
   "metadata": {
    "collapsed": false,
    "pycharm": {
     "name": "#%%\n"
    }
   }
  },
  {
   "cell_type": "code",
   "execution_count": 164,
   "outputs": [
    {
     "name": "stderr",
     "output_type": "stream",
     "text": [
      "/home/samdev/anaconda3/envs/Cardio_Segmentation/lib/python3.7/site-packages/keras_applications/mobilenet_v2.py:294: UserWarning: `input_shape` is undefined or non-square, or `rows` is not in [96, 128, 160, 192, 224]. Weights for input shape (224, 224) will be loaded as the default.\n",
      "  warnings.warn('`input_shape` is undefined or non-square, '\n"
     ]
    }
   ],
   "source": [
    "# Build unet\n",
    "def build_unet():\n",
    "    \"\"\"\n",
    "    Function to build a Unet based neural architecture\n",
    "    Uses pretrained encoder trained on weights from ImageNet\n",
    "    \"\"\"\n",
    "    inputs = Input((112, 112, 3), name='input_image')\n",
    "\n",
    "    # Pretrained encoder block\n",
    "    base_encoder = keras.applications.MobileNetV2(input_tensor=inputs,\n",
    "                                                   weights='imagenet',\n",
    "                                                   include_top=False,\n",
    "                                                   alpha=1.0)\n",
    "    # base_encoder.summary()\n",
    "    skip_names = ['input_image',\n",
    "                  'block_1_expand_relu',   # 56x56\n",
    "                  'block_3_expand_relu',   # 28x28\n",
    "                  'block_6_expand_relu']   # 14x14\n",
    "\n",
    "    encoder_output = base_encoder.get_layer('block_13_expand_relu').output # 7x7\n",
    "\n",
    "    filters = [64, 128, 256, 512]\n",
    "    x = encoder_output\n",
    "\n",
    "    for i in range(1, len(filters)+1, 1):\n",
    "        x_skip = base_encoder.get_layer(skip_names[-i]).output\n",
    "        x = UpSampling2D((2,2))(x)\n",
    "        x = Concatenate()([x, x, x_skip])\n",
    "\n",
    "        x = Conv2D(filters[-i], (3,3), padding='same')(x)\n",
    "        x = BatchNormalization()(x)\n",
    "        x = Activation('relu')(x)\n",
    "\n",
    "        x = Conv2D(filters[-i], (3,3), padding='same')(x)\n",
    "        x = BatchNormalization()(x)\n",
    "        x = Activation('relu')(x)\n",
    "\n",
    "    x = Conv2D(1, (1,1), padding='same')(x)\n",
    "    x = Activation('sigmoid')(x)\n",
    "\n",
    "    pre_unet_model = Model(inputs, x)\n",
    "\n",
    "    return pre_unet_model\n",
    "\n",
    "ed_model = build_unet()\n",
    "es_model = build_unet()\n",
    "all_model = build_unet()"
   ],
   "metadata": {
    "collapsed": false,
    "pycharm": {
     "name": "#%%\n"
    }
   }
  },
  {
   "cell_type": "code",
   "execution_count": 165,
   "outputs": [],
   "source": [
    "# load models with pretrained weights.\n",
    "# Two models, two sets of weights for optimal perf.\n",
    "# loads weights\n",
    "ed_model.load_weights(filepath=weights_edv_path)\n",
    "es_model.load_weights(filepath=weights_esv_path)\n",
    "#all_model.load_weights(filepath=weights_all_path)"
   ],
   "metadata": {
    "collapsed": false,
    "pycharm": {
     "name": "#%%\n"
    }
   }
  },
  {
   "cell_type": "code",
   "execution_count": 166,
   "outputs": [],
   "source": [
    "# predict LV mask for frames\n",
    "ed_pred = ed_model.predict(ed_gen)\n",
    "es_pred = es_model.predict(es_gen)\n",
    "\n"
   ],
   "metadata": {
    "collapsed": false,
    "pycharm": {
     "name": "#%%\n"
    }
   }
  },
  {
   "cell_type": "code",
   "execution_count": 230,
   "outputs": [
    {
     "data": {
      "text/plain": "<PIL.Image.Image image mode=RGBA size=112x112 at 0x7F053EF9CB90>",
      "image/png": "[encoded data removed]"
     },
     "metadata": {},
     "output_type": "display_data"
    },
    {
     "data": {
      "text/plain": "<PIL.Image.Image image mode=L size=112x112 at 0x7F053EF9C090>",
      "image/png": "[encoded data removed]"
     },
     "metadata": {},
     "output_type": "display_data"
    },
    {
     "data": {
      "text/plain": "<PIL.Image.Image image mode=RGBA size=112x112 at 0x7F053EF9C6D0>",
      "image/png": "[encoded data removed]"
     },
     "metadata": {},
     "output_type": "display_data"
    },
    {
     "data": {
      "text/plain": "<PIL.Image.Image image mode=L size=112x112 at 0x7F053EF9C090>",
      "image/png": "[encoded data removed]"
     },
     "metadata": {},
     "output_type": "display_data"
    }
   ],
   "source": [
    "# Parse and display predicitons\n",
    "def parse_preds(preds):\n",
    "    \"\"\" Convert probabilities into object and background pixel values based on a threshold. \"\"\"\n",
    "    _preds = (preds > 0.5).astype(int)\n",
    "    _preds = _preds * 255\n",
    "    return _preds\n",
    "\n",
    "\n",
    "def display_pred(i, preds):\n",
    "    \"\"\" Display predictions. \"\"\"\n",
    "    preds = parse_preds(preds)\n",
    "    mask = preds[i]\n",
    "    mask = array_to_img(mask)\n",
    "    display(mask)\n",
    "\n",
    "EXAMPLE = 0\n",
    "# Display mask predicted by our model\n",
    "ed_input_image = cv2.imread(ed_val_original_paths[EXAMPLE], cv2.IMREAD_COLOR)\n",
    "es_input_image = cv2.imread(es_val_original_paths[EXAMPLE], cv2.IMREAD_COLOR)\n",
    "ed_input_image = cv2.cvtColor(ed_input_image, cv2.COLOR_BGRA2RGBA)\n",
    "es_input_image = cv2.cvtColor(es_input_image, cv2.COLOR_BGRA2RGBA)\n",
    "ed_input_image = array_to_img(ed_input_image)\n",
    "es_input_image = array_to_img(es_input_image)\n",
    "display(ed_input_image)\n",
    "display_pred(EXAMPLE, ed_pred)\n",
    "display(es_input_image)\n",
    "display_pred(EXAMPLE, es_pred)\n"
   ],
   "metadata": {
    "collapsed": false,
    "pycharm": {
     "name": "#%%\n"
    }
   }
  },
  {
   "cell_type": "code",
   "execution_count": 207,
   "outputs": [
    {
     "data": {
      "text/plain": "<PIL.Image.Image image mode=RGB size=112x112 at 0x7F053EF9CB50>",
      "image/png": "[encoded data removed]"
     },
     "metadata": {},
     "output_type": "display_data"
    },
    {
     "data": {
      "text/plain": "<PIL.Image.Image image mode=RGB size=112x112 at 0x7F053EF9CB50>",
      "image/png": "[encoded data removed]"
     },
     "metadata": {},
     "output_type": "display_data"
    }
   ],
   "source": [
    "# edge detection on predicted masks\n",
    "def detect_edges(i, preds, color_tuple):\n",
    "    \"\"\"\n",
    "    function that uses numpy's implementation of the Canny edge detection\n",
    "    algorithm to detect the borders of the mask\n",
    "    :param i:\n",
    "    :param preds:\n",
    "    :return:\n",
    "    \"\"\"\n",
    "    preds = parse_preds(preds)\n",
    "    mask = preds[i]\n",
    "    mask = np.array(mask).astype(np.uint8)\n",
    "    mask_edges = cv2.Canny(mask, 100, 200)\n",
    "    rgb_edges = cv2.cvtColor(mask_edges, cv2.COLOR_GRAY2RGB)\n",
    "    #mask_edges = np.expand_dims(mask_edges, 2)\n",
    "    rgb_edges *= np.array(color_tuple, np.uint8)\n",
    "\n",
    "    return rgb_edges\n",
    "\n",
    "\n",
    "ed_edge = detect_edges(0, ed_pred, (1,0,0))\n",
    "display(array_to_img(ed_edge))\n",
    "es_edge = detect_edges(0, es_pred, (1,1,0))\n",
    "display(array_to_img(es_edge))\n",
    "resize_ed_edge = cv2.resize(ed_edge, (18,18))\n",
    "#print('resize_ed_edge: \\n', resize_ed_edge)"
   ],
   "metadata": {
    "collapsed": false,
    "pycharm": {
     "name": "#%%\n"
    }
   }
  },
  {
   "cell_type": "code",
   "execution_count": 209,
   "outputs": [
    {
     "name": "stdout",
     "output_type": "stream",
     "text": [
      "(112, 112, 3)\n",
      "(112, 112, 3)\n"
     ]
    },
    {
     "data": {
      "text/plain": "<PIL.Image.Image image mode=RGB size=112x112 at 0x7F053EF8EC10>",
      "image/png": "[encoded data removed]"
     },
     "metadata": {},
     "output_type": "display_data"
    }
   ],
   "source": [
    "def overlay_edges(underlay, edge1, edge2):\n",
    "    print(underlay.shape)\n",
    "    #print(edge1.shape)\n",
    "    #overlay = underlay + edge1 + edge2\n",
    "\n",
    "    overlay = cv2.addWeighted(underlay, 1, edge1, 0.5, 0)\n",
    "    overlay = cv2.addWeighted(overlay, 1, edge2, 0.5, 0)\n",
    "\n",
    "    #plt.imshow(underlay)\n",
    "    #plt.imshow(edge1)\n",
    "    #plt.imshow(edge2)\n",
    "    #plt.imshow(ed_mask)\n",
    "    #plt.show()\n",
    "    print(underlay.shape)\n",
    "\n",
    "    return overlay\n",
    "\n",
    "ed_input = cv2.imread('../Notebook/test_video/' + video_name + 'edv_frame.png', cv2.IMREAD_COLOR)\n",
    "edges = overlay_edges(ed_input, ed_edge, es_edge)\n",
    "cv2.imwrite('../Notebook/edge_edv_frame.png', edges)\n",
    "#edges = cv2.resize(edges, (18,18))\n",
    "#print(edges)\n",
    "display(array_to_img(edges))\n",
    "\n",
    "#cv2.imwrite('../Notebook/test_video/edge_edv_frame.png', ed_edge)\n",
    "#cv2.imwrite('../Notebook/test_video/edge_esv_frame.png', es_edge)\n",
    "\n",
    "\n",
    "\n",
    "\n",
    "\n",
    "\n",
    "\n",
    "\n",
    "\n",
    "\n",
    "\n",
    "\n",
    "\n",
    "\n",
    "\n",
    "\n",
    "\n",
    "\n",
    "\n",
    "\n",
    "\n",
    "\n",
    "\n",
    "\n",
    "\n"
   ],
   "metadata": {
    "collapsed": false,
    "pycharm": {
     "name": "#%%\n"
    }
   }
  }
 ],
 "metadata": {
  "kernelspec": {
   "display_name": "Python 3",
   "language": "python",
   "name": "python3"
  },
  "language_info": {
   "codemirror_mode": {
    "name": "ipython",
    "version": 2
   },
   "file_extension": ".py",
   "mimetype": "text/x-python",
   "name": "python",
   "nbconvert_exporter": "python",
   "pygments_lexer": "ipython2",
   "version": "2.7.6"
  }
 },
 "nbformat": 4,
 "nbformat_minor": 0
}